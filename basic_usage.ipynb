{
 "cells": [
  {
   "cell_type": "code",
   "execution_count": 1,
   "metadata": {},
   "outputs": [],
   "source": [
    "import os\n",
    "from dotenv import load_dotenv"
   ]
  },
  {
   "cell_type": "code",
   "execution_count": 2,
   "metadata": {},
   "outputs": [],
   "source": [
    "load_dotenv()\n",
    "\n",
    "zilliz_uri = os.getenv(\"ZILLIZ_URI\")\n",
    "zilliz_token = os.getenv(\"ZILLIZ_TOKEN\")"
   ]
  },
  {
   "cell_type": "code",
   "execution_count": null,
   "metadata": {},
   "outputs": [],
   "source": [
    "uri_l = zilliz_uri.split(\":\")\n",
    "token_l = zilliz_token.split(\":\")\n",
    "host = \":\".join(uri_l[:2])\n",
    "# print(token_l)\n",
    "vector_store = MilvusVectorStore(\n",
    "   host = host,\n",
    "   port = uri_l[-1],\n",
    "   user = token_l[0],\n",
    "   password = token_l[1],\n",
    "   use_secure = True,\n",
    "   collection_name = \"tds_articles\"\n",
    ")"
   ]
  },
  {
   "cell_type": "code",
   "execution_count": 12,
   "metadata": {},
   "outputs": [],
   "source": [
    "from pymilvus import connections, Collection"
   ]
  },
  {
   "cell_type": "code",
   "execution_count": 4,
   "metadata": {},
   "outputs": [],
   "source": [
    "uri_l = zilliz_uri.split(\":\")\n",
    "token_l = zilliz_token.split(\":\")\n",
    "host = \":\".join(uri_l[:2])"
   ]
  },
  {
   "cell_type": "code",
   "execution_count": 6,
   "metadata": {},
   "outputs": [
    {
     "name": "stdout",
     "output_type": "stream",
     "text": [
      "https://in01-9c5d1425c27406e.aws-us-west-2.vectordb.zillizcloud.com\n",
      "19530\n",
      "db_admin\n",
      "LlamaDrama1\n"
     ]
    }
   ],
   "source": [
    "print(host)\n",
    "print(uri_l[-1])\n",
    "print(token_l[0])\n",
    "print(token_l[1])"
   ]
  },
  {
   "cell_type": "code",
   "execution_count": 7,
   "metadata": {},
   "outputs": [],
   "source": [
    "connections.connect(uri=zilliz_uri, token=zilliz_token)"
   ]
  },
  {
   "cell_type": "code",
   "execution_count": 8,
   "metadata": {},
   "outputs": [
    {
     "name": "stderr",
     "output_type": "stream",
     "text": [
      "/Users/yujiantang/Documents/workspace/chat_articles/chatter/lib/python3.11/site-packages/tqdm/auto.py:21: TqdmWarning: IProgress not found. Please update jupyter and ipywidgets. See https://ipywidgets.readthedocs.io/en/stable/user_install.html\n",
      "  from .autonotebook import tqdm as notebook_tqdm\n"
     ]
    }
   ],
   "source": [
    "from sentence_transformers import SentenceTransformer\n",
    "\n",
    "model = SentenceTransformer(\"sentence-transformers/all-MiniLM-L12-v2\")"
   ]
  },
  {
   "cell_type": "code",
   "execution_count": 14,
   "metadata": {},
   "outputs": [],
   "source": [
    "collection = Collection(name=\"tds_articles\")"
   ]
  },
  {
   "cell_type": "code",
   "execution_count": 26,
   "metadata": {},
   "outputs": [],
   "source": [
    "query = input(\"What would you like to ask Towards Data Science's 2023 publications up to September? \")\n",
    "embedding = model.encode(query)"
   ]
  },
  {
   "cell_type": "code",
   "execution_count": 35,
   "metadata": {},
   "outputs": [],
   "source": [
    "closest = collection.search([embedding],\n",
    "                  anns_field='embedding', \n",
    "                    param={\"metric_type\": \"L2\",\n",
    "                            \"params\": {\"nprobe\": 16}}, \n",
    "                    limit=2,\n",
    "                    output_fields=[\"paragraph\"])"
   ]
  },
  {
   "cell_type": "code",
   "execution_count": 36,
   "metadata": {},
   "outputs": [
    {
     "name": "stdout",
     "output_type": "stream",
     "text": [
      "id: https://towardsdatascience.com/a-brief-history-of-language-models-d9e4620e025b+27, distance: 0.5377379655838013, entity: {'paragraph': 'The following papers introduce some milestones on the journey toward large language models.'}\n",
      "id: https://towardsdatascience.com/specialized-llms-chatgpt-lamda-galactica-codex-sparrow-and-more-ccccdd9f666f+3, distance: 0.5707962512969971, entity: {'paragraph': 'We have covered the topic of language models (LMs) and large language models (LLMs) in recent, prior posts on this topic. See the references below for each of these overviews:'}\n"
     ]
    }
   ],
   "source": [
    "print(closest[0][0])\n",
    "print(closest[0][1])"
   ]
  },
  {
   "cell_type": "code",
   "execution_count": null,
   "metadata": {},
   "outputs": [],
   "source": [
    "print(embedding)"
   ]
  },
  {
   "cell_type": "code",
   "execution_count": null,
   "metadata": {},
   "outputs": [],
   "source": []
  }
 ],
 "metadata": {
  "kernelspec": {
   "display_name": "chatter",
   "language": "python",
   "name": "python3"
  },
  "language_info": {
   "codemirror_mode": {
    "name": "ipython",
    "version": 3
   },
   "file_extension": ".py",
   "mimetype": "text/x-python",
   "name": "python",
   "nbconvert_exporter": "python",
   "pygments_lexer": "ipython3",
   "version": "3.11.4"
  },
  "orig_nbformat": 4
 },
 "nbformat": 4,
 "nbformat_minor": 2
}
